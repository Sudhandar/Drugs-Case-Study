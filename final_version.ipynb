{
 "cells": [
  {
   "cell_type": "code",
   "execution_count": 89,
   "metadata": {},
   "outputs": [],
   "source": [
    "import pandas as pd\n",
    "import seaborn as sns\n",
    "from sklearn.preprocessing import LabelEncoder\n",
    "import matplotlib.pyplot as plt\n",
    "import numpy as np\n",
    "from sklearn.model_selection import train_test_split,cross_val_score\n",
    "from sklearn.feature_selection import SelectKBest,mutual_info_classif\n",
    "from sklearn.linear_model import LogisticRegression,SGDClassifier\n",
    "from sklearn.svm import SVC, LinearSVC\n",
    "from sklearn.ensemble import RandomForestClassifier\n",
    "from sklearn.neighbors import KNeighborsClassifier\n",
    "from sklearn.linear_model import SGDClassifier\n",
    "from sklearn.tree import DecisionTreeClassifier\n",
    "from sklearn.metrics import accuracy_score,f1_score,roc_curve, auc,confusion_matrix\n",
    "from imblearn.over_sampling import SMOTE\n",
    "%matplotlib inline"
   ]
  },
  {
   "cell_type": "code",
   "execution_count": 42,
   "metadata": {},
   "outputs": [
    {
     "data": {
      "text/plain": [
       "Index(['ptid', 'persistency_flag', 'gender', 'race', 'ethnicity', 'region',\n",
       "       'age_bucket', 'ntm_speciality', 'ntm_specialist_flag',\n",
       "       'ntm_speciality_bucket', 'gluco_record_prior_ntm',\n",
       "       'gluco_record_during_rx', 'dexa_freq_during_rx', 'dexa_during_rx',\n",
       "       'frag_frac_prior_ntm', 'frag_frac_during_rx', 'risk_segment_prior_ntm',\n",
       "       'tscore_bucket_prior_ntm', 'risk_segment_during_rx',\n",
       "       'tscore_bucket_during_rx', 'change_t_score', 'change_risk_segment',\n",
       "       'adherent_flag', 'idn_indicator', 'injectable_experience_during_rx',\n",
       "       'comorb_encounter_for_screening_for_malignant_neoplasms',\n",
       "       'comorb_encounter_for_immunization',\n",
       "       'comorb_encntr_for_general_exam_w_o_complaint,_susp_or_reprtd_dx',\n",
       "       'comorb_vitamin_d_deficiency',\n",
       "       'comorb_other_joint_disorder_not_elsewhere_classified',\n",
       "       'comorb_encntr_for_oth_sp_exam_w_o_complaint_suspected_or_reprtd_dx',\n",
       "       'comorb_long_term_current_drug_therapy', 'comorb_dorsalgia',\n",
       "       'comorb_personal_history_of_other_diseases_and_conditions',\n",
       "       'comorb_other_disorders_of_bone_density_and_structure',\n",
       "       'comorb_disorders_of_lipoprotein_metabolism_and_other_lipidemias',\n",
       "       'comorb_osteoporosis_without_current_pathological_fracture',\n",
       "       'comorb_personal_history_of_malignant_neoplasm',\n",
       "       'comorb_gastro_esophageal_reflux_disease',\n",
       "       'concom_cholesterol_and_triglyceride_regulating_preparations',\n",
       "       'concom_narcotics', 'concom_systemic_corticosteroids_plain',\n",
       "       'concom_anti_depressants_and_mood_stabilisers',\n",
       "       'concom_fluoroquinolones', 'concom_cephalosporins',\n",
       "       'concom_macrolides_and_similar_types',\n",
       "       'concom_broad_spectrum_penicillins', 'concom_anaesthetics_general',\n",
       "       'concom_viral_vaccines', 'risk_type_1_insulin_dependent_diabetes',\n",
       "       'risk_osteogenesis_imperfecta', 'risk_rheumatoid_arthritis',\n",
       "       'risk_untreated_chronic_hyperthyroidism',\n",
       "       'risk_untreated_chronic_hypogonadism', 'risk_untreated_early_menopause',\n",
       "       'risk_patient_parent_fractured_their_hip', 'risk_smoking_tobacco',\n",
       "       'risk_chronic_malnutrition_or_malabsorption',\n",
       "       'risk_chronic_liver_disease', 'risk_family_history_of_osteoporosis',\n",
       "       'risk_low_calcium_intake', 'risk_vitamin_d_insufficiency',\n",
       "       'risk_poor_health_frailty', 'risk_excessive_thinness',\n",
       "       'risk_hysterectomy_oophorectomy', 'risk_estrogen_deficiency',\n",
       "       'risk_immobilization', 'risk_recurring_falls', 'count_of_risks'],\n",
       "      dtype='object')"
      ]
     },
     "execution_count": 42,
     "metadata": {},
     "output_type": "execute_result"
    }
   ],
   "source": [
    "data = pd.read_csv('input.csv')\n",
    "data = data.drop_duplicates()\n",
    "data = data.dropna()\n",
    "data.columns = [ x.lower().strip() for x in data.columns]\n",
    "data.columns"
   ]
  },
  {
   "cell_type": "code",
   "execution_count": 43,
   "metadata": {},
   "outputs": [
    {
     "data": {
      "text/plain": [
       "(3424, 69)"
      ]
     },
     "execution_count": 43,
     "metadata": {},
     "output_type": "execute_result"
    }
   ],
   "source": [
    "data.shape"
   ]
  },
  {
   "cell_type": "code",
   "execution_count": 44,
   "metadata": {},
   "outputs": [
    {
     "data": {
      "text/plain": [
       "Index(['dexa_freq_during_rx', 'count_of_risks'], dtype='object')"
      ]
     },
     "execution_count": 44,
     "metadata": {},
     "output_type": "execute_result"
    }
   ],
   "source": [
    "num_cols = data._get_numeric_data().columns\n",
    "num_cols"
   ]
  },
  {
   "cell_type": "code",
   "execution_count": 45,
   "metadata": {},
   "outputs": [],
   "source": [
    "grouping_dict = {}\n",
    "\n",
    "grouping = ['concom','comorb','risk']\n",
    "\n",
    "for val in grouping:\n",
    "    for col in data.columns:\n",
    "        if col.startswith(val):\n",
    "            grouping_dict[col] = val"
   ]
  },
  {
   "cell_type": "code",
   "execution_count": 46,
   "metadata": {},
   "outputs": [
    {
     "data": {
      "text/plain": [
       "{'concom_cholesterol_and_triglyceride_regulating_preparations': 'concom',\n",
       " 'concom_narcotics': 'concom',\n",
       " 'concom_systemic_corticosteroids_plain': 'concom',\n",
       " 'concom_anti_depressants_and_mood_stabilisers': 'concom',\n",
       " 'concom_fluoroquinolones': 'concom',\n",
       " 'concom_cephalosporins': 'concom',\n",
       " 'concom_macrolides_and_similar_types': 'concom',\n",
       " 'concom_broad_spectrum_penicillins': 'concom',\n",
       " 'concom_anaesthetics_general': 'concom',\n",
       " 'concom_viral_vaccines': 'concom',\n",
       " 'comorb_encounter_for_screening_for_malignant_neoplasms': 'comorb',\n",
       " 'comorb_encounter_for_immunization': 'comorb',\n",
       " 'comorb_encntr_for_general_exam_w_o_complaint,_susp_or_reprtd_dx': 'comorb',\n",
       " 'comorb_vitamin_d_deficiency': 'comorb',\n",
       " 'comorb_other_joint_disorder_not_elsewhere_classified': 'comorb',\n",
       " 'comorb_encntr_for_oth_sp_exam_w_o_complaint_suspected_or_reprtd_dx': 'comorb',\n",
       " 'comorb_long_term_current_drug_therapy': 'comorb',\n",
       " 'comorb_dorsalgia': 'comorb',\n",
       " 'comorb_personal_history_of_other_diseases_and_conditions': 'comorb',\n",
       " 'comorb_other_disorders_of_bone_density_and_structure': 'comorb',\n",
       " 'comorb_disorders_of_lipoprotein_metabolism_and_other_lipidemias': 'comorb',\n",
       " 'comorb_osteoporosis_without_current_pathological_fracture': 'comorb',\n",
       " 'comorb_personal_history_of_malignant_neoplasm': 'comorb',\n",
       " 'comorb_gastro_esophageal_reflux_disease': 'comorb',\n",
       " 'risk_segment_prior_ntm': 'risk',\n",
       " 'risk_segment_during_rx': 'risk',\n",
       " 'risk_type_1_insulin_dependent_diabetes': 'risk',\n",
       " 'risk_osteogenesis_imperfecta': 'risk',\n",
       " 'risk_rheumatoid_arthritis': 'risk',\n",
       " 'risk_untreated_chronic_hyperthyroidism': 'risk',\n",
       " 'risk_untreated_chronic_hypogonadism': 'risk',\n",
       " 'risk_untreated_early_menopause': 'risk',\n",
       " 'risk_patient_parent_fractured_their_hip': 'risk',\n",
       " 'risk_smoking_tobacco': 'risk',\n",
       " 'risk_chronic_malnutrition_or_malabsorption': 'risk',\n",
       " 'risk_chronic_liver_disease': 'risk',\n",
       " 'risk_family_history_of_osteoporosis': 'risk',\n",
       " 'risk_low_calcium_intake': 'risk',\n",
       " 'risk_vitamin_d_insufficiency': 'risk',\n",
       " 'risk_poor_health_frailty': 'risk',\n",
       " 'risk_excessive_thinness': 'risk',\n",
       " 'risk_hysterectomy_oophorectomy': 'risk',\n",
       " 'risk_estrogen_deficiency': 'risk',\n",
       " 'risk_immobilization': 'risk',\n",
       " 'risk_recurring_falls': 'risk'}"
      ]
     },
     "execution_count": 46,
     "metadata": {},
     "output_type": "execute_result"
    }
   ],
   "source": [
    "grouping_dict"
   ]
  },
  {
   "cell_type": "code",
   "execution_count": 47,
   "metadata": {},
   "outputs": [],
   "source": [
    "del grouping_dict['risk_segment_prior_ntm']\n",
    "del grouping_dict['risk_segment_during_rx']\n",
    "\n",
    "combined_columns = [x for x in grouping_dict.keys()]"
   ]
  },
  {
   "cell_type": "code",
   "execution_count": 48,
   "metadata": {},
   "outputs": [],
   "source": [
    "le = LabelEncoder()\n",
    "for val in combined_columns:\n",
    "    data[val] = le.fit_transform(data[val])"
   ]
  },
  {
   "cell_type": "code",
   "execution_count": 49,
   "metadata": {},
   "outputs": [
    {
     "data": {
      "text/html": [
       "<div>\n",
       "<style scoped>\n",
       "    .dataframe tbody tr th:only-of-type {\n",
       "        vertical-align: middle;\n",
       "    }\n",
       "\n",
       "    .dataframe tbody tr th {\n",
       "        vertical-align: top;\n",
       "    }\n",
       "\n",
       "    .dataframe thead th {\n",
       "        text-align: right;\n",
       "    }\n",
       "</style>\n",
       "<table border=\"1\" class=\"dataframe\">\n",
       "  <thead>\n",
       "    <tr style=\"text-align: right;\">\n",
       "      <th></th>\n",
       "      <th>ptid</th>\n",
       "      <th>concomitancy_count</th>\n",
       "      <th>comorbidity_count</th>\n",
       "      <th>risk_factors_count</th>\n",
       "    </tr>\n",
       "  </thead>\n",
       "  <tbody>\n",
       "    <tr>\n",
       "      <th>0</th>\n",
       "      <td>P1</td>\n",
       "      <td>5</td>\n",
       "      <td>0</td>\n",
       "      <td>0</td>\n",
       "    </tr>\n",
       "    <tr>\n",
       "      <th>1</th>\n",
       "      <td>P2</td>\n",
       "      <td>1</td>\n",
       "      <td>0</td>\n",
       "      <td>0</td>\n",
       "    </tr>\n",
       "    <tr>\n",
       "      <th>2</th>\n",
       "      <td>P3</td>\n",
       "      <td>2</td>\n",
       "      <td>1</td>\n",
       "      <td>2</td>\n",
       "    </tr>\n",
       "    <tr>\n",
       "      <th>3</th>\n",
       "      <td>P4</td>\n",
       "      <td>6</td>\n",
       "      <td>3</td>\n",
       "      <td>1</td>\n",
       "    </tr>\n",
       "    <tr>\n",
       "      <th>4</th>\n",
       "      <td>P5</td>\n",
       "      <td>5</td>\n",
       "      <td>3</td>\n",
       "      <td>1</td>\n",
       "    </tr>\n",
       "  </tbody>\n",
       "</table>\n",
       "</div>"
      ],
      "text/plain": [
       "  ptid  concomitancy_count  comorbidity_count  risk_factors_count\n",
       "0   P1                   5                  0                   0\n",
       "1   P2                   1                  0                   0\n",
       "2   P3                   2                  1                   2\n",
       "3   P4                   6                  3                   1\n",
       "4   P5                   5                  3                   1"
      ]
     },
     "execution_count": 49,
     "metadata": {},
     "output_type": "execute_result"
    }
   ],
   "source": [
    "to_combine = data.set_index('ptid').groupby(grouping_dict,axis=1).sum()\n",
    "\n",
    "to_combine.columns = ['concomitancy_count','comorbidity_count','risk_factors_count']\n",
    "\n",
    "to_combine = to_combine.reset_index()\n",
    "\n",
    "to_combine.head(5)"
   ]
  },
  {
   "cell_type": "code",
   "execution_count": 50,
   "metadata": {},
   "outputs": [],
   "source": [
    "data = data.drop(combined_columns,axis=1)\n",
    "\n",
    "data = pd.merge(data, to_combine, on='ptid', how = 'inner')\n",
    "\n",
    "data=data.drop(['count_of_risks'],axis=1)"
   ]
  },
  {
   "cell_type": "code",
   "execution_count": 51,
   "metadata": {},
   "outputs": [
    {
     "data": {
      "text/plain": [
       "(3424, 28)"
      ]
     },
     "execution_count": 51,
     "metadata": {},
     "output_type": "execute_result"
    }
   ],
   "source": [
    "data.shape"
   ]
  },
  {
   "cell_type": "code",
   "execution_count": 52,
   "metadata": {},
   "outputs": [
    {
     "data": {
      "text/html": [
       "<div>\n",
       "<style scoped>\n",
       "    .dataframe tbody tr th:only-of-type {\n",
       "        vertical-align: middle;\n",
       "    }\n",
       "\n",
       "    .dataframe tbody tr th {\n",
       "        vertical-align: top;\n",
       "    }\n",
       "\n",
       "    .dataframe thead th {\n",
       "        text-align: right;\n",
       "    }\n",
       "</style>\n",
       "<table border=\"1\" class=\"dataframe\">\n",
       "  <thead>\n",
       "    <tr style=\"text-align: right;\">\n",
       "      <th></th>\n",
       "      <th>ptid</th>\n",
       "      <th>persistency_flag</th>\n",
       "      <th>gender</th>\n",
       "      <th>race</th>\n",
       "      <th>ethnicity</th>\n",
       "      <th>region</th>\n",
       "      <th>age_bucket</th>\n",
       "      <th>ntm_speciality</th>\n",
       "      <th>ntm_specialist_flag</th>\n",
       "      <th>ntm_speciality_bucket</th>\n",
       "      <th>...</th>\n",
       "      <th>frag_frac_during_rx</th>\n",
       "      <th>risk_segment_prior_ntm</th>\n",
       "      <th>tscore_bucket_prior_ntm</th>\n",
       "      <th>risk_segment_during_rx</th>\n",
       "      <th>tscore_bucket_during_rx</th>\n",
       "      <th>change_t_score</th>\n",
       "      <th>change_risk_segment</th>\n",
       "      <th>adherent_flag</th>\n",
       "      <th>idn_indicator</th>\n",
       "      <th>injectable_experience_during_rx</th>\n",
       "    </tr>\n",
       "  </thead>\n",
       "  <tbody>\n",
       "    <tr>\n",
       "      <th>count</th>\n",
       "      <td>3424</td>\n",
       "      <td>3424</td>\n",
       "      <td>3424</td>\n",
       "      <td>3424</td>\n",
       "      <td>3424</td>\n",
       "      <td>3424</td>\n",
       "      <td>3424</td>\n",
       "      <td>3424</td>\n",
       "      <td>3424</td>\n",
       "      <td>3424</td>\n",
       "      <td>...</td>\n",
       "      <td>3424</td>\n",
       "      <td>3424</td>\n",
       "      <td>3424</td>\n",
       "      <td>3424</td>\n",
       "      <td>3424</td>\n",
       "      <td>3424</td>\n",
       "      <td>3424</td>\n",
       "      <td>3424</td>\n",
       "      <td>3424</td>\n",
       "      <td>3424</td>\n",
       "    </tr>\n",
       "    <tr>\n",
       "      <th>unique</th>\n",
       "      <td>3424</td>\n",
       "      <td>2</td>\n",
       "      <td>2</td>\n",
       "      <td>4</td>\n",
       "      <td>3</td>\n",
       "      <td>5</td>\n",
       "      <td>4</td>\n",
       "      <td>36</td>\n",
       "      <td>2</td>\n",
       "      <td>3</td>\n",
       "      <td>...</td>\n",
       "      <td>2</td>\n",
       "      <td>2</td>\n",
       "      <td>2</td>\n",
       "      <td>3</td>\n",
       "      <td>3</td>\n",
       "      <td>4</td>\n",
       "      <td>4</td>\n",
       "      <td>2</td>\n",
       "      <td>2</td>\n",
       "      <td>2</td>\n",
       "    </tr>\n",
       "    <tr>\n",
       "      <th>top</th>\n",
       "      <td>P3047</td>\n",
       "      <td>Non-Persistent</td>\n",
       "      <td>Female</td>\n",
       "      <td>Caucasian</td>\n",
       "      <td>Not Hispanic</td>\n",
       "      <td>Midwest</td>\n",
       "      <td>&gt;75</td>\n",
       "      <td>GENERAL PRACTITIONER</td>\n",
       "      <td>Others</td>\n",
       "      <td>OB/GYN/Others/PCP/Unknown</td>\n",
       "      <td>...</td>\n",
       "      <td>N</td>\n",
       "      <td>VLR_LR</td>\n",
       "      <td>&gt;-2.5</td>\n",
       "      <td>Unknown</td>\n",
       "      <td>Unknown</td>\n",
       "      <td>No change</td>\n",
       "      <td>Unknown</td>\n",
       "      <td>Adherent</td>\n",
       "      <td>Y</td>\n",
       "      <td>Y</td>\n",
       "    </tr>\n",
       "    <tr>\n",
       "      <th>freq</th>\n",
       "      <td>1</td>\n",
       "      <td>2135</td>\n",
       "      <td>3230</td>\n",
       "      <td>3148</td>\n",
       "      <td>3235</td>\n",
       "      <td>1383</td>\n",
       "      <td>1439</td>\n",
       "      <td>1535</td>\n",
       "      <td>2013</td>\n",
       "      <td>2104</td>\n",
       "      <td>...</td>\n",
       "      <td>3007</td>\n",
       "      <td>1931</td>\n",
       "      <td>1951</td>\n",
       "      <td>1497</td>\n",
       "      <td>1497</td>\n",
       "      <td>1660</td>\n",
       "      <td>2229</td>\n",
       "      <td>3251</td>\n",
       "      <td>2557</td>\n",
       "      <td>3056</td>\n",
       "    </tr>\n",
       "  </tbody>\n",
       "</table>\n",
       "<p>4 rows × 24 columns</p>\n",
       "</div>"
      ],
      "text/plain": [
       "         ptid persistency_flag  gender       race     ethnicity   region  \\\n",
       "count    3424             3424    3424       3424          3424     3424   \n",
       "unique   3424                2       2          4             3        5   \n",
       "top     P3047   Non-Persistent  Female  Caucasian  Not Hispanic  Midwest   \n",
       "freq        1             2135    3230       3148          3235     1383   \n",
       "\n",
       "       age_bucket        ntm_speciality ntm_specialist_flag  \\\n",
       "count        3424                  3424                3424   \n",
       "unique          4                    36                   2   \n",
       "top           >75  GENERAL PRACTITIONER              Others   \n",
       "freq         1439                  1535                2013   \n",
       "\n",
       "            ntm_speciality_bucket  ... frag_frac_during_rx  \\\n",
       "count                        3424  ...                3424   \n",
       "unique                          3  ...                   2   \n",
       "top     OB/GYN/Others/PCP/Unknown  ...                   N   \n",
       "freq                         2104  ...                3007   \n",
       "\n",
       "       risk_segment_prior_ntm tscore_bucket_prior_ntm risk_segment_during_rx  \\\n",
       "count                    3424                    3424                   3424   \n",
       "unique                      2                       2                      3   \n",
       "top                    VLR_LR                   >-2.5                Unknown   \n",
       "freq                     1931                    1951                   1497   \n",
       "\n",
       "       tscore_bucket_during_rx change_t_score change_risk_segment  \\\n",
       "count                     3424           3424                3424   \n",
       "unique                       3              4                   4   \n",
       "top                    Unknown      No change             Unknown   \n",
       "freq                      1497           1660                2229   \n",
       "\n",
       "       adherent_flag idn_indicator injectable_experience_during_rx  \n",
       "count           3424          3424                            3424  \n",
       "unique             2             2                               2  \n",
       "top         Adherent             Y                               Y  \n",
       "freq            3251          2557                            3056  \n",
       "\n",
       "[4 rows x 24 columns]"
      ]
     },
     "execution_count": 52,
     "metadata": {},
     "output_type": "execute_result"
    }
   ],
   "source": [
    "data.describe(include='O')"
   ]
  },
  {
   "cell_type": "code",
   "execution_count": 53,
   "metadata": {},
   "outputs": [
    {
     "data": {
      "image/png": "[encoded data removed]",
      "text/plain": [
       "<Figure size 1224x1080 with 4 Axes>"
      ]
     },
     "metadata": {
      "needs_background": "light"
     },
     "output_type": "display_data"
    }
   ],
   "source": [
    "fig, axarr = plt.subplots(2, 2, figsize=(17, 15))\n",
    "data['change_risk_segment'].value_counts().plot.bar(ax=axarr[0][0]).title.set_text('change_risk_segment')\n",
    "data['risk_segment_during_rx'].value_counts().plot.bar(ax=axarr[0][1]).title.set_text('risk_segment_during_rx')\n",
    "data['tscore_bucket_during_rx'].value_counts().plot.bar(ax=axarr[1][0]).title.set_text('tscore_bucket_during_rx')\n",
    "data['change_t_score'].value_counts().plot.bar(ax=axarr[1][1]).title.set_text('change_t_score')"
   ]
  },
  {
   "cell_type": "code",
   "execution_count": 54,
   "metadata": {},
   "outputs": [],
   "source": [
    "data = data.drop(['change_risk_segment','risk_segment_during_rx','tscore_bucket_during_rx','change_t_score'],axis = 1)"
   ]
  },
  {
   "cell_type": "code",
   "execution_count": 55,
   "metadata": {},
   "outputs": [],
   "source": [
    "binary_cols = ['persistency_flag','gender','ntm_specialist_flag','gluco_record_prior_ntm','gluco_record_during_rx','dexa_during_rx','frag_frac_during_rx','risk_segment_prior_ntm','tscore_bucket_prior_ntm','adherent_flag','idn_indicator','injectable_experience_during_rx','frag_frac_prior_ntm']"
   ]
  },
  {
   "cell_type": "code",
   "execution_count": 56,
   "metadata": {},
   "outputs": [],
   "source": [
    "for col in binary_cols:\n",
    "    data[col] = le.fit_transform(data[col])"
   ]
  },
  {
   "cell_type": "code",
   "execution_count": 57,
   "metadata": {},
   "outputs": [],
   "source": [
    "data = data.drop(['race','ethnicity'],axis =1)"
   ]
  },
  {
   "cell_type": "code",
   "execution_count": 58,
   "metadata": {},
   "outputs": [],
   "source": [
    "multiple_class = ['age_bucket','ntm_speciality','ntm_speciality_bucket','region']\n",
    "for column in multiple_class:\n",
    "    data[column] = data[column].astype('category')\n",
    "    data[column] = le.fit_transform(data[column])"
   ]
  },
  {
   "cell_type": "code",
   "execution_count": 59,
   "metadata": {},
   "outputs": [
    {
     "data": {
      "text/plain": [
       "ptid                               object\n",
       "persistency_flag                    int32\n",
       "gender                              int32\n",
       "region                              int32\n",
       "age_bucket                          int32\n",
       "ntm_speciality                      int32\n",
       "ntm_specialist_flag                 int32\n",
       "ntm_speciality_bucket               int32\n",
       "gluco_record_prior_ntm              int32\n",
       "gluco_record_during_rx              int32\n",
       "dexa_freq_during_rx                 int64\n",
       "dexa_during_rx                      int32\n",
       "frag_frac_prior_ntm                 int32\n",
       "frag_frac_during_rx                 int32\n",
       "risk_segment_prior_ntm              int32\n",
       "tscore_bucket_prior_ntm             int32\n",
       "adherent_flag                       int32\n",
       "idn_indicator                       int32\n",
       "injectable_experience_during_rx     int32\n",
       "concomitancy_count                  int32\n",
       "comorbidity_count                   int32\n",
       "risk_factors_count                  int32\n",
       "dtype: object"
      ]
     },
     "execution_count": 59,
     "metadata": {},
     "output_type": "execute_result"
    }
   ],
   "source": [
    "data.dtypes"
   ]
  },
  {
   "cell_type": "code",
   "execution_count": 60,
   "metadata": {},
   "outputs": [
    {
     "data": {
      "text/plain": [
       "(3424, 22)"
      ]
     },
     "execution_count": 60,
     "metadata": {},
     "output_type": "execute_result"
    }
   ],
   "source": [
    "data.shape"
   ]
  },
  {
   "cell_type": "code",
   "execution_count": 61,
   "metadata": {},
   "outputs": [],
   "source": [
    "features = data.copy()\n",
    "target = features[['persistency_flag']]\n",
    "features = features.drop(['ptid','persistency_flag'],axis=1)"
   ]
  },
  {
   "cell_type": "code",
   "execution_count": 62,
   "metadata": {},
   "outputs": [
    {
     "data": {
      "text/plain": [
       "SelectKBest(k='all',\n",
       "            score_func=<function mutual_info_classif at 0x00000223EE6300D0>)"
      ]
     },
     "execution_count": 62,
     "metadata": {},
     "output_type": "execute_result"
    }
   ],
   "source": [
    "fs = SelectKBest(score_func=mutual_info_classif,k='all')\n",
    "fs.fit(features , target.values.ravel())"
   ]
  },
  {
   "cell_type": "code",
   "execution_count": 65,
   "metadata": {},
   "outputs": [
    {
     "data": {
      "text/html": [
       "<div>\n",
       "<style scoped>\n",
       "    .dataframe tbody tr th:only-of-type {\n",
       "        vertical-align: middle;\n",
       "    }\n",
       "\n",
       "    .dataframe tbody tr th {\n",
       "        vertical-align: top;\n",
       "    }\n",
       "\n",
       "    .dataframe thead th {\n",
       "        text-align: right;\n",
       "    }\n",
       "</style>\n",
       "<table border=\"1\" class=\"dataframe\">\n",
       "  <thead>\n",
       "    <tr style=\"text-align: right;\">\n",
       "      <th></th>\n",
       "      <th>fetaure</th>\n",
       "      <th>score</th>\n",
       "    </tr>\n",
       "  </thead>\n",
       "  <tbody>\n",
       "    <tr>\n",
       "      <th>17</th>\n",
       "      <td>concomitancy_count</td>\n",
       "      <td>0.146872</td>\n",
       "    </tr>\n",
       "    <tr>\n",
       "      <th>8</th>\n",
       "      <td>dexa_freq_during_rx</td>\n",
       "      <td>0.138112</td>\n",
       "    </tr>\n",
       "    <tr>\n",
       "      <th>9</th>\n",
       "      <td>dexa_during_rx</td>\n",
       "      <td>0.125904</td>\n",
       "    </tr>\n",
       "    <tr>\n",
       "      <th>18</th>\n",
       "      <td>comorbidity_count</td>\n",
       "      <td>0.065406</td>\n",
       "    </tr>\n",
       "    <tr>\n",
       "      <th>3</th>\n",
       "      <td>ntm_speciality</td>\n",
       "      <td>0.030835</td>\n",
       "    </tr>\n",
       "    <tr>\n",
       "      <th>7</th>\n",
       "      <td>gluco_record_during_rx</td>\n",
       "      <td>0.023599</td>\n",
       "    </tr>\n",
       "    <tr>\n",
       "      <th>16</th>\n",
       "      <td>injectable_experience_during_rx</td>\n",
       "      <td>0.018069</td>\n",
       "    </tr>\n",
       "    <tr>\n",
       "      <th>14</th>\n",
       "      <td>adherent_flag</td>\n",
       "      <td>0.007553</td>\n",
       "    </tr>\n",
       "    <tr>\n",
       "      <th>19</th>\n",
       "      <td>risk_factors_count</td>\n",
       "      <td>0.006748</td>\n",
       "    </tr>\n",
       "    <tr>\n",
       "      <th>4</th>\n",
       "      <td>ntm_specialist_flag</td>\n",
       "      <td>0.006395</td>\n",
       "    </tr>\n",
       "    <tr>\n",
       "      <th>2</th>\n",
       "      <td>age_bucket</td>\n",
       "      <td>0.004137</td>\n",
       "    </tr>\n",
       "    <tr>\n",
       "      <th>5</th>\n",
       "      <td>ntm_speciality_bucket</td>\n",
       "      <td>0.000179</td>\n",
       "    </tr>\n",
       "    <tr>\n",
       "      <th>15</th>\n",
       "      <td>idn_indicator</td>\n",
       "      <td>0.000000</td>\n",
       "    </tr>\n",
       "    <tr>\n",
       "      <th>0</th>\n",
       "      <td>gender</td>\n",
       "      <td>0.000000</td>\n",
       "    </tr>\n",
       "    <tr>\n",
       "      <th>13</th>\n",
       "      <td>tscore_bucket_prior_ntm</td>\n",
       "      <td>0.000000</td>\n",
       "    </tr>\n",
       "    <tr>\n",
       "      <th>12</th>\n",
       "      <td>risk_segment_prior_ntm</td>\n",
       "      <td>0.000000</td>\n",
       "    </tr>\n",
       "    <tr>\n",
       "      <th>11</th>\n",
       "      <td>frag_frac_during_rx</td>\n",
       "      <td>0.000000</td>\n",
       "    </tr>\n",
       "    <tr>\n",
       "      <th>1</th>\n",
       "      <td>region</td>\n",
       "      <td>0.000000</td>\n",
       "    </tr>\n",
       "    <tr>\n",
       "      <th>6</th>\n",
       "      <td>gluco_record_prior_ntm</td>\n",
       "      <td>0.000000</td>\n",
       "    </tr>\n",
       "    <tr>\n",
       "      <th>10</th>\n",
       "      <td>frag_frac_prior_ntm</td>\n",
       "      <td>0.000000</td>\n",
       "    </tr>\n",
       "  </tbody>\n",
       "</table>\n",
       "</div>"
      ],
      "text/plain": [
       "                            fetaure     score\n",
       "17               concomitancy_count  0.146872\n",
       "8               dexa_freq_during_rx  0.138112\n",
       "9                    dexa_during_rx  0.125904\n",
       "18                comorbidity_count  0.065406\n",
       "3                    ntm_speciality  0.030835\n",
       "7            gluco_record_during_rx  0.023599\n",
       "16  injectable_experience_during_rx  0.018069\n",
       "14                    adherent_flag  0.007553\n",
       "19               risk_factors_count  0.006748\n",
       "4               ntm_specialist_flag  0.006395\n",
       "2                        age_bucket  0.004137\n",
       "5             ntm_speciality_bucket  0.000179\n",
       "15                    idn_indicator  0.000000\n",
       "0                            gender  0.000000\n",
       "13          tscore_bucket_prior_ntm  0.000000\n",
       "12           risk_segment_prior_ntm  0.000000\n",
       "11              frag_frac_during_rx  0.000000\n",
       "1                            region  0.000000\n",
       "6            gluco_record_prior_ntm  0.000000\n",
       "10              frag_frac_prior_ntm  0.000000"
      ]
     },
     "execution_count": 65,
     "metadata": {},
     "output_type": "execute_result"
    }
   ],
   "source": [
    "feature_columns=features.columns\n",
    "feature_list = []\n",
    "for i in range(len(fs.scores_)):\n",
    "    feature_list.append([feature_columns[i],fs.scores_[i]])\n",
    "feature_df = pd.DataFrame(feature_list)\n",
    "feature_df = fin.sort_values(1,ascending=False)\n",
    "feature_df.columns = ['fetaure','score']\n",
    "feature_df"
   ]
  },
  {
   "cell_type": "code",
   "execution_count": 68,
   "metadata": {},
   "outputs": [
    {
     "data": {
      "text/plain": [
       "['concomitancy_count',\n",
       " 'dexa_freq_during_rx',\n",
       " 'dexa_during_rx',\n",
       " 'comorbidity_count',\n",
       " 'ntm_speciality',\n",
       " 'gluco_record_during_rx',\n",
       " 'injectable_experience_during_rx']"
      ]
     },
     "execution_count": 68,
     "metadata": {},
     "output_type": "execute_result"
    }
   ],
   "source": [
    "selected_columns = feature_df['fetaure'][:7].tolist()\n",
    "selected_columns"
   ]
  },
  {
   "cell_type": "code",
   "execution_count": 69,
   "metadata": {},
   "outputs": [],
   "source": [
    "feature_final = features[selected_columns]"
   ]
  },
  {
   "cell_type": "code",
   "execution_count": 72,
   "metadata": {},
   "outputs": [
    {
     "data": {
      "text/plain": [
       "0    2135\n",
       "1    1289\n",
       "Name: persistency_flag, dtype: int64"
      ]
     },
     "execution_count": 72,
     "metadata": {},
     "output_type": "execute_result"
    }
   ],
   "source": [
    "target['persistency_flag'].value_counts()"
   ]
  },
  {
   "cell_type": "code",
   "execution_count": 73,
   "metadata": {},
   "outputs": [],
   "source": [
    "oversample = SMOTE()\n",
    "feature_final,target = oversample.fit_resample(feature_final, target)"
   ]
  },
  {
   "cell_type": "code",
   "execution_count": 74,
   "metadata": {},
   "outputs": [
    {
     "data": {
      "text/plain": [
       "1    2135\n",
       "0    2135\n",
       "Name: persistency_flag, dtype: int64"
      ]
     },
     "execution_count": 74,
     "metadata": {},
     "output_type": "execute_result"
    }
   ],
   "source": [
    "target['persistency_flag'].value_counts()"
   ]
  },
  {
   "cell_type": "code",
   "execution_count": 84,
   "metadata": {},
   "outputs": [],
   "source": [
    "x_train, x_test,y_train, y_test = train_test_split(feature_final,target,test_size = 0.7, random_state = 8)"
   ]
  },
  {
   "cell_type": "code",
   "execution_count": 178,
   "metadata": {},
   "outputs": [],
   "source": [
    "performance_list=[]"
   ]
  },
  {
   "cell_type": "code",
   "execution_count": 179,
   "metadata": {},
   "outputs": [
    {
     "name": "stdout",
     "output_type": "stream",
     "text": [
      "Mean ROC AUC 0.8502223702223703\n"
     ]
    }
   ],
   "source": [
    "logreg = LogisticRegression()\n",
    "logreg.fit(x_train, y_train.values.ravel())\n",
    "scores = cross_val_score(logreg,x_train,y_train.values.ravel(), scoring='roc_auc', cv=10)\n",
    "performance_list.append(['Logistic Regression',np.mean(scores)])\n",
    "print('Mean ROC AUC',np.mean(scores))"
   ]
  },
  {
   "cell_type": "code",
   "execution_count": 159,
   "metadata": {},
   "outputs": [
    {
     "data": {
      "text/plain": [
       "[[1, 0.7459978909978912],\n",
       " [3, 0.8085255485255484],\n",
       " [5, 0.8310641210641212],\n",
       " [7, 0.8463038813038815],\n",
       " [9, 0.8466984866984868],\n",
       " [11, 0.8442855292855294],\n",
       " [13, 0.8471067821067824],\n",
       " [15, 0.8487192437192439],\n",
       " [17, 0.8475002775002777],\n",
       " [19, 0.849171384171384],\n",
       " [21, 0.8504399304399305],\n",
       " [23, 0.8526995226995228],\n",
       " [25, 0.8499851999852002],\n",
       " [27, 0.8511038961038961],\n",
       " [29, 0.8498122248122248],\n",
       " [31, 0.8510905760905763],\n",
       " [33, 0.851941576941577],\n",
       " [35, 0.8535298035298036],\n",
       " [37, 0.8524542124542126],\n",
       " [39, 0.849912494912495],\n",
       " [41, 0.8532243682243683],\n",
       " [43, 0.8500016650016651],\n",
       " [45, 0.8503775853775855],\n",
       " [47, 0.850848780848781],\n",
       " [49, 0.8505829355829357]]"
      ]
     },
     "execution_count": 159,
     "metadata": {},
     "output_type": "execute_result"
    }
   ],
   "source": [
    "neighbors = list(range(1, 50, 2))\n",
    "\n",
    "# empty list that will hold cv scores\n",
    "cv_scores = []\n",
    "\n",
    "# perform 10-fold cross validation\n",
    "for k in neighbors:\n",
    "    knn = KNeighborsClassifier(n_neighbors=k)\n",
    "    scores = cross_val_score(knn, x_train, y_train.values.ravel(), cv=10, scoring='roc_auc')\n",
    "    cv_scores.append([k,scores.mean()])\n",
    "cv_scores"
   ]
  },
  {
   "cell_type": "code",
   "execution_count": 180,
   "metadata": {},
   "outputs": [
    {
     "name": "stdout",
     "output_type": "stream",
     "text": [
      "Mean ROC AUC 0.8506351056351058\n"
     ]
    }
   ],
   "source": [
    "knn = KNeighborsClassifier(n_neighbors = 35, algorithm = 'brute')\n",
    "knn.fit(x_train,y_train.values.ravel())\n",
    "scores = cross_val_score(knn,x_train,y_train.values.ravel(), scoring='roc_auc', cv=10)\n",
    "performance_list.append(['K Neighbours Classifiers',np.mean(scores)])\n",
    "print('Mean ROC AUC',np.mean(scores))"
   ]
  },
  {
   "cell_type": "code",
   "execution_count": 181,
   "metadata": {},
   "outputs": [
    {
     "name": "stdout",
     "output_type": "stream",
     "text": [
      "Mean ROC AUC 0.8477108077108078\n"
     ]
    }
   ],
   "source": [
    "svc = SVC()\n",
    "svc.fit(x_train,y_train.values.ravel())\n",
    "scores = cross_val_score(svc,x_train,y_train.values.ravel(), scoring='roc_auc', cv=10)\n",
    "performance_list.append(['SVC',np.mean(scores)])\n",
    "print('Mean ROC AUC',np.mean(scores))"
   ]
  },
  {
   "cell_type": "code",
   "execution_count": 182,
   "metadata": {},
   "outputs": [
    {
     "name": "stdout",
     "output_type": "stream",
     "text": [
      "Mean ROC AUC 0.7526079476079477\n"
     ]
    }
   ],
   "source": [
    "dtc = DecisionTreeClassifier()\n",
    "dtc.fit(x_train,y_train)\n",
    "scores = cross_val_score(dtc,x_train,y_train.values.ravel(), scoring='roc_auc', cv=10)\n",
    "performance_list.append(['Decision Tree',np.mean(scores)])\n",
    "print('Mean ROC AUC',np.mean(scores))"
   ]
  },
  {
   "cell_type": "code",
   "execution_count": 183,
   "metadata": {},
   "outputs": [
    {
     "name": "stdout",
     "output_type": "stream",
     "text": [
      "Mean ROC AUC 0.8324362674362675\n"
     ]
    }
   ],
   "source": [
    "random_forest = RandomForestClassifier(n_estimators= 64)\n",
    "random_forest.fit(x_train, y_train.values.ravel())\n",
    "scores = cross_val_score(random_forest,x_train,y_train.values.ravel(), scoring='roc_auc', cv=10)\n",
    "performance_list.append(['Random Forest',np.mean(scores)])\n",
    "print('Mean ROC AUC',np.mean(scores))"
   ]
  },
  {
   "cell_type": "code",
   "execution_count": 184,
   "metadata": {},
   "outputs": [],
   "source": [
    "performance_df = pd.DataFrame(performance_list)"
   ]
  },
  {
   "cell_type": "code",
   "execution_count": 185,
   "metadata": {},
   "outputs": [
    {
     "data": {
      "text/html": [
       "<div>\n",
       "<style scoped>\n",
       "    .dataframe tbody tr th:only-of-type {\n",
       "        vertical-align: middle;\n",
       "    }\n",
       "\n",
       "    .dataframe tbody tr th {\n",
       "        vertical-align: top;\n",
       "    }\n",
       "\n",
       "    .dataframe thead th {\n",
       "        text-align: right;\n",
       "    }\n",
       "</style>\n",
       "<table border=\"1\" class=\"dataframe\">\n",
       "  <thead>\n",
       "    <tr style=\"text-align: right;\">\n",
       "      <th></th>\n",
       "      <th>model</th>\n",
       "      <th>train_roc</th>\n",
       "    </tr>\n",
       "  </thead>\n",
       "  <tbody>\n",
       "    <tr>\n",
       "      <th>1</th>\n",
       "      <td>K Neighbours Classifiers</td>\n",
       "      <td>0.850635</td>\n",
       "    </tr>\n",
       "    <tr>\n",
       "      <th>0</th>\n",
       "      <td>Logistic Regression</td>\n",
       "      <td>0.850222</td>\n",
       "    </tr>\n",
       "    <tr>\n",
       "      <th>2</th>\n",
       "      <td>SVC</td>\n",
       "      <td>0.847711</td>\n",
       "    </tr>\n",
       "    <tr>\n",
       "      <th>4</th>\n",
       "      <td>Random Forest</td>\n",
       "      <td>0.832436</td>\n",
       "    </tr>\n",
       "    <tr>\n",
       "      <th>3</th>\n",
       "      <td>Decision Tree</td>\n",
       "      <td>0.752608</td>\n",
       "    </tr>\n",
       "  </tbody>\n",
       "</table>\n",
       "</div>"
      ],
      "text/plain": [
       "                      model  train_roc\n",
       "1  K Neighbours Classifiers   0.850635\n",
       "0       Logistic Regression   0.850222\n",
       "2                       SVC   0.847711\n",
       "4             Random Forest   0.832436\n",
       "3             Decision Tree   0.752608"
      ]
     },
     "execution_count": 185,
     "metadata": {},
     "output_type": "execute_result"
    }
   ],
   "source": [
    "performance_df.columns = ['model','train_roc']\n",
    "performance_df.sort_values('train_roc',ascending = False)"
   ]
  },
  {
   "cell_type": "code",
   "execution_count": null,
   "metadata": {},
   "outputs": [],
   "source": []
  }
 ],
 "metadata": {
  "kernelspec": {
   "display_name": "Python 3",
   "language": "python",
   "name": "python3"
  },
  "language_info": {
   "codemirror_mode": {
    "name": "ipython",
    "version": 3
   },
   "file_extension": ".py",
   "mimetype": "text/x-python",
   "name": "python",
   "nbconvert_exporter": "python",
   "pygments_lexer": "ipython3",
   "version": "3.7.3"
  }
 },
 "nbformat": 4,
 "nbformat_minor": 2
}
